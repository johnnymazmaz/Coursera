{
 "cells": [
  {
   "cell_type": "markdown",
   "id": "34378547-bb3d-4c17-ac5c-fb7730736bea",
   "metadata": {},
   "source": [
    "## Introduction\n",
    "Welcome to my data science notebook! In this project, I will explore various data science tools and showcase their capabilities."
   ]
  },
  {
   "cell_type": "markdown",
   "id": "e33b8b64-f071-43bf-8208-be2d36de5496",
   "metadata": {
    "tags": []
   },
   "source": [
    "## Data Science Languages\n",
    "1. Python\n",
    "2. R\n",
    "3. Julia"
   ]
  },
  {
   "cell_type": "markdown",
   "id": "866b9c51-d6f1-4c85-b82e-b860905a358a",
   "metadata": {},
   "source": [
    "## Data Science Libraries\n",
    "- NumPy\n",
    "- Pandas\n",
    "- Scikit-learn\n",
    "- TensorFlow\n",
    "- Matplotlib\n"
   ]
  },
  {
   "cell_type": "markdown",
   "id": "5c62a7b2-24e1-4b4e-893c-7ce437eb829d",
   "metadata": {},
   "source": [
    "## Data Science Tools\n",
    "\n",
    "| Tool           | Description                   |\n",
    "| -------------- | ----------------------------- |\n",
    "| Jupyter        | Interactive computing        |\n",
    "| VS Code        | Integrated development       |\n",
    "| GitHub         | Version control and sharing  |\n",
    "| Tableau        | Data visualization           |\n",
    "| Docker         | Containerization              |\n"
   ]
  },
  {
   "cell_type": "code",
   "execution_count": 3,
   "id": "c696022b-ffe8-4ae7-913f-5781dfa777f3",
   "metadata": {
    "tags": []
   },
   "outputs": [
    {
     "data": {
      "text/plain": [
       "22"
      ]
     },
     "execution_count": 3,
     "metadata": {},
     "output_type": "execute_result"
    }
   ],
   "source": [
    "# Multiply and add numbers\n",
    "result = 5 * 3 + 7\n",
    "result\n"
   ]
  },
  {
   "cell_type": "code",
   "execution_count": 4,
   "id": "3d9ebd31-06f4-43d6-830c-cf3609f7a0d0",
   "metadata": {
    "tags": []
   },
   "outputs": [
    {
     "data": {
      "text/plain": [
       "2.0"
      ]
     },
     "execution_count": 4,
     "metadata": {},
     "output_type": "execute_result"
    }
   ],
   "source": [
    "# Convert minutes to hours\n",
    "minutes = 120\n",
    "hours = minutes / 60\n",
    "hours\n"
   ]
  },
  {
   "cell_type": "markdown",
   "id": "c9434d73-0ae9-41c6-8a39-ff26210680da",
   "metadata": {
    "tags": []
   },
   "source": [
    "## Objectives\n",
    "1. Explore data science languages and libraries.\n",
    "2. Understand the functionality of various data science tools.\n",
    "3. Apply basic arithmetic expressions in Python.\n",
    "4. Share the notebook on GitHub for public viewing.\n"
   ]
  },
  {
   "cell_type": "markdown",
   "id": "bb35fd0a-65c9-4e71-a074-8990726c3eb4",
   "metadata": {},
   "source": [
    "## Author\n",
    "John Mazziotti\n"
   ]
  },
  {
   "cell_type": "code",
   "execution_count": null,
   "id": "088ad7a5-d554-420a-ad4e-18aa38598ee3",
   "metadata": {},
   "outputs": [],
   "source": []
  }
 ],
 "metadata": {
  "kernelspec": {
   "display_name": "Python",
   "language": "python",
   "name": "conda-env-python-py"
  },
  "language_info": {
   "codemirror_mode": {
    "name": "ipython",
    "version": 3
   },
   "file_extension": ".py",
   "mimetype": "text/x-python",
   "name": "python",
   "nbconvert_exporter": "python",
   "pygments_lexer": "ipython3",
   "version": "3.7.12"
  }
 },
 "nbformat": 4,
 "nbformat_minor": 5
}
